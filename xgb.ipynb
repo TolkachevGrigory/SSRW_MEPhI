{
 "cells": [
  {
   "cell_type": "code",
   "execution_count": 52,
   "id": "44c8b2ae",
   "metadata": {},
   "outputs": [],
   "source": [
    "import xgboost as xgb\n",
    "from sklearn.datasets import load_diabetes\n",
    "from sklearn.metrics import auc, accuracy_score, confusion_matrix, mean_squared_error\n",
    "import numpy as np\n",
    "from matplotlib import pyplot as plt\n",
    "from sklearn.model_selection import train_test_split"
   ]
  },
  {
   "cell_type": "code",
   "execution_count": 54,
   "id": "8bbd981d",
   "metadata": {},
   "outputs": [],
   "source": [
    "diabetes = load_diabetes()\n",
    "X = diabetes.data\n",
    "y = diabetes.target"
   ]
  },
  {
   "cell_type": "code",
   "execution_count": 55,
   "id": "8f299839",
   "metadata": {},
   "outputs": [],
   "source": [
    "X_train, X_test, y_train, y_test = train_test_split(\n",
    "    X, y, test_size=0.3, random_state=9\n",
    ")"
   ]
  },
  {
   "cell_type": "code",
   "execution_count": 58,
   "id": "8cd99cfc",
   "metadata": {},
   "outputs": [],
   "source": [
    "def func1(X_train, X_test, y_train, y_test):\n",
    "    xgb_model = xgb.XGBRegressor(objective=\"reg:linear\", random_state=42)\n",
    "    xgb_model.fit(X_train, y_train)\n",
    "    y_pred = xgb_model.predict(X_test)\n",
    "    mse=mean_squared_error(y_test, y_pred)\n",
    "    print(\"MSE = %s\"%np.sqrt(mse))\n",
    "#    return xgb_model"
   ]
  },
  {
   "cell_type": "code",
   "execution_count": 59,
   "id": "bdb0f2ac",
   "metadata": {},
   "outputs": [
    {
     "name": "stdout",
     "output_type": "stream",
     "text": [
      "[17:05:36] WARNING: /build/jenkins/workspace/lcg_release_pipeline/build/pyexternals/xgboost-0.90/src/xgboost/0.90/src/objective/regression_obj.cu:152: reg:linear is now deprecated in favor of reg:squarederror.\n",
      "MSE = 53.52246764568162\n"
     ]
    }
   ],
   "source": [
    "func1(X_train, X_test, y_train, y_test)"
   ]
  },
  {
   "cell_type": "code",
   "execution_count": 64,
   "id": "01497e56",
   "metadata": {},
   "outputs": [],
   "source": [
    "from sklearn.preprocessing import scale, normalize"
   ]
  },
  {
   "cell_type": "code",
   "execution_count": 67,
   "id": "39486806",
   "metadata": {},
   "outputs": [],
   "source": [
    "X_train_normalised  = normalize(X_train)\n",
    "X_test_normalised = normalize(X_test)\n",
    "X_train_scaled  = scale(X_train)\n",
    "X_test_scaled = scale(X_test)"
   ]
  },
  {
   "cell_type": "code",
   "execution_count": 68,
   "id": "5a81f84a",
   "metadata": {},
   "outputs": [
    {
     "name": "stdout",
     "output_type": "stream",
     "text": [
      "[17:14:56] WARNING: /build/jenkins/workspace/lcg_release_pipeline/build/pyexternals/xgboost-0.90/src/xgboost/0.90/src/objective/regression_obj.cu:152: reg:linear is now deprecated in favor of reg:squarederror.\n",
      "MSE = 52.62125403558725\n"
     ]
    }
   ],
   "source": [
    "func1(X_train_normalised, X_test_normalised, y_train, y_test)"
   ]
  },
  {
   "cell_type": "code",
   "execution_count": 69,
   "id": "e805a61f",
   "metadata": {},
   "outputs": [
    {
     "name": "stdout",
     "output_type": "stream",
     "text": [
      "[17:14:57] WARNING: /build/jenkins/workspace/lcg_release_pipeline/build/pyexternals/xgboost-0.90/src/xgboost/0.90/src/objective/regression_obj.cu:152: reg:linear is now deprecated in favor of reg:squarederror.\n",
      "MSE = 54.19450231492301\n"
     ]
    }
   ],
   "source": [
    "func1(X_train_scaled, X_test_scaled, y_train, y_test)"
   ]
  },
  {
   "cell_type": "code",
   "execution_count": null,
   "id": "f4a95298",
   "metadata": {},
   "outputs": [],
   "source": []
  }
 ],
 "metadata": {
  "kernelspec": {
   "display_name": "Python 3",
   "language": "python",
   "name": "python3"
  },
  "language_info": {
   "codemirror_mode": {
    "name": "ipython",
    "version": 3
   },
   "file_extension": ".py",
   "mimetype": "text/x-python",
   "name": "python",
   "nbconvert_exporter": "python",
   "pygments_lexer": "ipython3",
   "version": "3.8.6"
  }
 },
 "nbformat": 4,
 "nbformat_minor": 5
}
