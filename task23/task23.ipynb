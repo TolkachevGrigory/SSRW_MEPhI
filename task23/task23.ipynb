{
 "cells": [
  {
   "cell_type": "code",
   "execution_count": null,
   "id": "df85354f",
   "metadata": {},
   "outputs": [],
   "source": [
    "from transformers import *\n",
    "from  sklearn.datasets import fetch_20newsgroups\n",
    "import re"
   ]
  },
  {
   "cell_type": "code",
   "execution_count": null,
   "id": "fa00ac77",
   "metadata": {},
   "outputs": [],
   "source": [
    "src = \"en\"\n",
    "dst = \"ru\"\n",
    "task_name = f\"translation_{src}_to_{dst}\"\n",
    "model_name = f\"Helsinki-NLP/opus-mt-{src}-{dst}\"\n",
    "translator  = pipeline(task_name, model=model_name, tokenizer=model_name)\n",
    "data = fetch_20newsgroups()\n",
    "categories = [\"sci.med\", \"sci.space\"]\n",
    "data, _ = fetch_20newsgroups(\n",
    "    random_state=1,\n",
    "    subset=\"test\",\n",
    "    categories=categories,\n",
    "    remove=('headers', 'footers', 'quotes', ),\n",
    "    return_X_y=True,\n",
    ")\n",
    "\n",
    "\n",
    "k = 0\n",
    "string_list = []\n",
    "for text in data[100:]:\n",
    "    if len(text)>400:\n",
    "        continue\n",
    "    rus = translator(text)[0][\"translation_text\"]\n",
    "    #print(rus)\n",
    "    text_list = re.split(\"([?!.])\", rus)\n",
    "    for string in text_list:\n",
    "        if len(string)>30:\n",
    "            string_list.append(string)\n",
    "            k+=1\n",
    "            print(k)\n",
    "\n",
    "    if k > 100:\n",
    "        break\n"
   ]
  },
  {
   "cell_type": "code",
   "execution_count": null,
   "id": "d6bb9c75",
   "metadata": {},
   "outputs": [],
   "source": [
    "for K, i in enumerate(string_list):\n",
    "    print(\"%s : %s\"%(K, i))"
   ]
  }
 ],
 "metadata": {
  "kernelspec": {
   "display_name": "Python 3",
   "language": "python",
   "name": "python3"
  },
  "language_info": {
   "codemirror_mode": {
    "name": "ipython",
    "version": 3
   },
   "file_extension": ".py",
   "mimetype": "text/x-python",
   "name": "python",
   "nbconvert_exporter": "python",
   "pygments_lexer": "ipython3",
   "version": "3.8.6"
  }
 },
 "nbformat": 4,
 "nbformat_minor": 5
}
